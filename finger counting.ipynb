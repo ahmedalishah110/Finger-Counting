{
 "cells": [
  {
   "cell_type": "code",
   "execution_count": null,
   "id": "7f387961",
   "metadata": {},
   "outputs": [],
   "source": [
    "!pip install opencv-python"
   ]
  },
  {
   "cell_type": "code",
   "execution_count": null,
   "id": "59edc10a",
   "metadata": {},
   "outputs": [],
   "source": [
    "!pip install mediapipe"
   ]
  },
  {
   "cell_type": "code",
   "execution_count": 1,
   "id": "f2ac5a15",
   "metadata": {},
   "outputs": [],
   "source": [
    "import mediapipe as mp"
   ]
  },
  {
   "cell_type": "code",
   "execution_count": 2,
   "id": "81dcfc34",
   "metadata": {},
   "outputs": [],
   "source": [
    "import cv2 "
   ]
  },
  {
   "cell_type": "code",
   "execution_count": 3,
   "id": "c858f256",
   "metadata": {},
   "outputs": [],
   "source": [
    "mp_drawing = mp.solutions.drawing_utils\n",
    "mp_hands = mp.solutions.hands\n",
    "hands = mp_hands.Hands()"
   ]
  },
  {
   "cell_type": "code",
   "execution_count": null,
   "id": "692e071a",
   "metadata": {},
   "outputs": [],
   "source": [
    "fingersCoordinate = [(8,6),(12,10),(16,14),(20,18)]\n",
    "ThumbCoordinate = (4,2)\n",
    "\n",
    "wCam, hCam = 640,480\n",
    "cap = cv2.VideoCapture(0)\n",
    "cap.set(3, wCam)\n",
    "cap.set(4, hCam)\n",
    "\n",
    "\n",
    "while True:\n",
    "    success, img = cap.read()\n",
    "\n",
    "    #BGR 2 RGB\n",
    "    image = cv2.cvtColor(img, cv2.COLOR_BGR2RGB)\n",
    "\n",
    "    results = hands.process(image) \n",
    "    handNo = 0\n",
    "  \n",
    "                \n",
    "    if results.multi_hand_landmarks:\n",
    "        lmList=[]\n",
    "        for num, hand in enumerate (results.multi_hand_landmarks[handNo].landmark):\n",
    "            h,w,c = img.shape\n",
    "            cx,cy = int(hand.x*w), int(hand.y*h)\n",
    "            lmList.append((cx,cy))\n",
    "            \n",
    "        for hand in results.multi_hand_landmarks:\n",
    "            mp_drawing.draw_landmarks(img,hand, mp_hands.HAND_CONNECTIONS)\n",
    "            \n",
    "        for point in lmList:\n",
    "            cv2.circle(img,point,5,(0,255,0),cv2.FILLED)\n",
    "        \n",
    "        upcount = 0\n",
    "        for coordinate in fingersCoordinate:\n",
    "            if lmList[coordinate[0]][1] < lmList[coordinate[1]][1]:\n",
    "                upcount +=1\n",
    "        if lmList[ThumbCoordinate[0]][0] > lmList[ThumbCoordinate[1]][0]:\n",
    "            upcount +=1\n",
    "        cv2.putText(img, str(upcount), (150,150), cv2.FONT_HERSHEY_PLAIN,12,(255,0,0),12)\n",
    "\n",
    "\n",
    "    cv2.imshow(\"Fingers Counting\", img)\n",
    "    cv2.waitKey(1)\n",
    "\n"
   ]
  },
  {
   "cell_type": "code",
   "execution_count": null,
   "id": "07e1b956",
   "metadata": {},
   "outputs": [],
   "source": [
    "\n",
    "\n"
   ]
  },
  {
   "cell_type": "code",
   "execution_count": null,
   "id": "694a0317",
   "metadata": {},
   "outputs": [],
   "source": []
  },
  {
   "cell_type": "code",
   "execution_count": null,
   "id": "76f10d5d",
   "metadata": {},
   "outputs": [],
   "source": []
  },
  {
   "cell_type": "code",
   "execution_count": null,
   "id": "158d7ff0",
   "metadata": {},
   "outputs": [],
   "source": []
  },
  {
   "cell_type": "code",
   "execution_count": null,
   "id": "ae206263",
   "metadata": {},
   "outputs": [],
   "source": []
  },
  {
   "cell_type": "code",
   "execution_count": null,
   "id": "f84f3e4e",
   "metadata": {},
   "outputs": [],
   "source": []
  }
 ],
 "metadata": {
  "kernelspec": {
   "display_name": "Python 3 (ipykernel)",
   "language": "python",
   "name": "python3"
  },
  "language_info": {
   "codemirror_mode": {
    "name": "ipython",
    "version": 3
   },
   "file_extension": ".py",
   "mimetype": "text/x-python",
   "name": "python",
   "nbconvert_exporter": "python",
   "pygments_lexer": "ipython3",
   "version": "3.9.7"
  }
 },
 "nbformat": 4,
 "nbformat_minor": 5
}
